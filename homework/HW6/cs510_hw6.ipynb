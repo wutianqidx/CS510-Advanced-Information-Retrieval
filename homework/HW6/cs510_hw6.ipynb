{
 "cells": [
  {
   "cell_type": "code",
   "execution_count": 83,
   "metadata": {},
   "outputs": [
    {
     "data": {
      "text/plain": [
       "['computer', 'computer', 'the', 'the', 'the']"
      ]
     },
     "execution_count": 83,
     "metadata": {},
     "output_type": "execute_result"
    }
   ],
   "source": [
    "file = 'data3_problem3.txt'\n",
    "data= []\n",
    "with open(file,'r') as f:\n",
    "    for line in f:\n",
    "        data.append(line.strip())\n",
    "data[0:5]"
   ]
  },
  {
   "cell_type": "code",
   "execution_count": 84,
   "metadata": {},
   "outputs": [
    {
     "data": {
      "text/plain": [
       "['interesting', 'data', 'game', 'the', 'computer', 'baseball']"
      ]
     },
     "execution_count": 84,
     "metadata": {},
     "output_type": "execute_result"
    }
   ],
   "source": [
    "length=len(data)\n",
    "V = list(set(data))\n",
    "H = {'computer':0.1, 'interesting':0.5, 'the':0.1, 'data':0.1, 'game':0.1, 'baseball':0.1}\n",
    "T = {'computer':0.2, 'interesting':0.1, 'the':0.25, 'data':0.2, 'game':0.1, 'baseball':0.15}\n",
    "HW = {'computer':0.2, 'interesting':0.2, 'the':0.2, 'data':0.2, 'game':0.2, 'baseball':0.2}\n",
    "lam = 0.9\n",
    "\n",
    "V"
   ]
  },
  {
   "cell_type": "code",
   "execution_count": 85,
   "metadata": {
    "collapsed": true
   },
   "outputs": [],
   "source": [
    "count = {x : data.count(x) for x in V}"
   ]
  },
  {
   "cell_type": "code",
   "execution_count": 86,
   "metadata": {
    "collapsed": true
   },
   "outputs": [],
   "source": [
    "n=1\n",
    "for i in range(n):\n",
    "    for x in V:\n",
    "        HW[x] = lam*(H[x])/(lam*H[x] + (1-lam)*T[x])\n",
    "        H[x] = HW[x]*count[x]/(lam*length)"
   ]
  },
  {
   "cell_type": "code",
   "execution_count": 87,
   "metadata": {},
   "outputs": [
    {
     "data": {
      "text/plain": [
       "{'baseball': 0.014476190476190476,\n",
       " 'computer': 0.2651909090909091,\n",
       " 'data': 0.01838181818181818,\n",
       " 'game': 0.3701,\n",
       " 'interesting': 0.1087391304347826,\n",
       " 'the': 0.17628695652173915}"
      ]
     },
     "execution_count": 87,
     "metadata": {},
     "output_type": "execute_result"
    }
   ],
   "source": [
    "H"
   ]
  },
  {
   "cell_type": "code",
   "execution_count": 88,
   "metadata": {
    "collapsed": true
   },
   "outputs": [],
   "source": [
    "n=100\n",
    "for i in range(n):\n",
    "    for x in V:\n",
    "        HW[x] = lam*(H[x])/(lam*H[x] + (1-lam)*T[x])\n",
    "        H[x] = HW[x]*count[x]/(lam*length)"
   ]
  },
  {
   "cell_type": "code",
   "execution_count": 89,
   "metadata": {},
   "outputs": [
    {
     "data": {
      "text/plain": [
       "{'baseball': 0.0003010519566917575,\n",
       " 'computer': 0.3019,\n",
       " 'data': 0.0003650729851197951,\n",
       " 'game': 0.4001111111111111,\n",
       " 'interesting': 0.10004444444444445,\n",
       " 'the': 0.19747777777777778}"
      ]
     },
     "execution_count": 89,
     "metadata": {},
     "output_type": "execute_result"
    }
   ],
   "source": [
    "H"
   ]
  },
  {
   "cell_type": "code",
   "execution_count": 92,
   "metadata": {},
   "outputs": [
    {
     "data": {
      "text/plain": [
       "{'baseball': 0.0152,\n",
       " 'computer': 0.29171,\n",
       " 'data': 0.02022,\n",
       " 'game': 0.3701,\n",
       " 'interesting': 0.10004,\n",
       " 'the': 0.20273}"
      ]
     },
     "execution_count": 92,
     "metadata": {},
     "output_type": "execute_result"
    }
   ],
   "source": [
    "true_prob = {x : data.count(x)/length for x in V}\n",
    "true_prob"
   ]
  },
  {
   "cell_type": "code",
   "execution_count": 93,
   "metadata": {},
   "outputs": [
    {
     "data": {
      "text/plain": [
       "{'baseball': 0.8571428571428572,\n",
       " 'computer': 0.8181818181818181,\n",
       " 'data': 0.8181818181818181,\n",
       " 'game': 0.9,\n",
       " 'interesting': 0.9782608695652174,\n",
       " 'the': 0.782608695652174}"
      ]
     },
     "execution_count": 93,
     "metadata": {},
     "output_type": "execute_result"
    }
   ],
   "source": [
    "HW"
   ]
  },
  {
   "cell_type": "code",
   "execution_count": 2,
   "metadata": {},
   "outputs": [
    {
     "data": {
      "text/plain": [
       "['0\\tmount mount rainier seattle seattle rainier rainier rainier seattle seattle mount mount rainier mount mount seattle mount mount seattle mount seattle mount seattle rainier mount mount rainier rainier mount mount seattle mount mount mount rainier rainier mount seattle seattle seattle seattle rainier rainier mount rainier seattle mount mount seattle mount mount seattle seattle rainier seattle seattle mount rainier mount mount mount rainier mount mount seattle mount mount rainier seattle seattle seattle seattle rainier mount mount rainier seattle seattle mount rainier seattle seattle rainier seattle seattle mount rainier seattle seattle seattle rainier mount rainier mount rainier seattle rainier rainier seattle seattle',\n",
       " '0\\tseattle mount seattle rainier rainier rainier rainier seattle rainier seattle rainier rainier rainier seattle rainier rainier seattle mount rainier rainier rainier mount rainier rainier mount rainier mount seattle seattle rainier mount mount seattle seattle seattle mount mount rainier mount rainier rainier seattle rainier rainier mount rainier mount mount rainier mount rainier seattle seattle seattle seattle rainier seattle seattle rainier rainier mount mount seattle mount mount rainier rainier rainier seattle rainier rainier seattle rainier rainier mount rainier seattle seattle rainier seattle seattle rainier mount mount rainier rainier rainier seattle mount seattle seattle rainier rainier seattle rainier rainier rainier seattle rainier rainier',\n",
       " '1\\twillis tower willis willis willis chicago chicago willis tower willis tower tower tower tower willis tower willis tower seattle chicago willis tower tower mount seattle willis mount chicago tower chicago chicago tower chicago chicago willis chicago willis chicago willis tower seattle mount chicago willis tower tower chicago willis tower seattle willis chicago seattle tower tower chicago chicago willis tower chicago chicago tower tower tower seattle willis tower mount chicago willis chicago willis chicago willis tower willis tower willis willis tower tower willis tower willis willis chicago chicago seattle tower tower willis tower tower willis willis tower chicago willis seattle willis',\n",
       " '1\\twillis mount tower tower willis mount tower mount tower willis willis tower chicago willis tower tower chicago chicago tower chicago tower willis chicago chicago tower chicago tower chicago mount willis chicago willis chicago tower mount tower tower willis chicago chicago tower chicago willis tower seattle tower tower tower tower willis tower tower tower chicago tower willis tower tower chicago chicago chicago willis tower willis willis willis chicago chicago chicago willis chicago tower tower willis chicago willis tower tower seattle seattle chicago chicago tower tower chicago chicago seattle chicago seattle tower mount chicago chicago tower willis chicago tower seattle tower willis',\n",
       " '1\\twillis chicago tower willis willis tower mount tower chicago chicago willis chicago seattle tower willis tower tower tower tower chicago tower chicago willis willis willis willis chicago mount tower willis willis willis willis willis tower willis chicago tower chicago tower chicago willis chicago tower tower chicago tower willis tower tower tower willis tower chicago chicago seattle chicago tower chicago chicago chicago tower mount seattle chicago chicago chicago chicago tower mount willis tower tower willis chicago chicago willis willis tower tower willis willis tower chicago chicago willis tower seattle tower willis tower willis willis seattle willis willis seattle chicago tower tower']"
      ]
     },
     "execution_count": 2,
     "metadata": {},
     "output_type": "execute_result"
    }
   ],
   "source": [
    "file = 'data4_problem4.txt'\n",
    "data= []\n",
    "with open(file,'r') as f:\n",
    "    for line in f:\n",
    "        data.append(line.strip())\n",
    "data[0:5]"
   ]
  },
  {
   "cell_type": "code",
   "execution_count": 48,
   "metadata": {
    "collapsed": true
   },
   "outputs": [],
   "source": [
    "data[0:2]\n",
    "V = ['seattle', 'mount', 'rainier', 'chicago', 'willis', 'tower']\n"
   ]
  },
  {
   "cell_type": "code",
   "execution_count": 60,
   "metadata": {
    "collapsed": true
   },
   "outputs": [],
   "source": [
    "z0 = []\n",
    "z1 = []\n",
    "count_w0 = {'seattle':0, 'mount':0, 'rainier':0, 'chicago':0, 'willis':0, 'tower':0}\n",
    "count_w1 = {'seattle':0, 'mount':0, 'rainier':0, 'chicago':0, 'willis':0, 'tower':0}\n",
    "w_z0 = {'seattle':0, 'mount':0, 'rainier':0, 'chicago':0, 'willis':0, 'tower':0}\n",
    "w_z1 = {'seattle':0, 'mount':0, 'rainier':0, 'chicago':0, 'willis':0, 'tower':0}\n",
    "for x in data[0:100]:\n",
    "    if x[0] == '0':\n",
    "        z0.append(x[2:])\n",
    "        for y in V:\n",
    "            count_w0[y] += x.count(y)\n",
    "    elif x[0] == '1':\n",
    "        z1.append(x[2:])\n",
    "        for y in V:\n",
    "            count_w1[y] += x.count(y)\n",
    "            \n",
    "for x in V:\n",
    "    w_z0[x] = count_w0[x]/sum(count_w0.values())\n",
    "    w_z1[x] = count_w1[x]/sum(count_w1.values())      "
   ]
  },
  {
   "cell_type": "code",
   "execution_count": 71,
   "metadata": {
    "collapsed": true
   },
   "outputs": [],
   "source": [
    "z0_d = sum(count_w0.values())/(sum(count_w0.values())+sum(count_w1.values()))  \n",
    "z1_d = 1-z0_d"
   ]
  },
  {
   "cell_type": "code",
   "execution_count": 82,
   "metadata": {},
   "outputs": [
    {
     "data": {
      "text/plain": [
       "{'chicago': 0.2828888888888889,\n",
       " 'mount': 0.05555555555555555,\n",
       " 'rainier': 0.0,\n",
       " 'seattle': 0.05311111111111111,\n",
       " 'tower': 0.29777777777777775,\n",
       " 'willis': 0.31066666666666665}"
      ]
     },
     "execution_count": 82,
     "metadata": {},
     "output_type": "execute_result"
    }
   ],
   "source": [
    "w_z1"
   ]
  },
  {
   "cell_type": "code",
   "execution_count": 63,
   "metadata": {},
   "outputs": [
    {
     "data": {
      "text/plain": [
       "{'chicago': 0,\n",
       " 'mount': 1677,\n",
       " 'rainier': 2129,\n",
       " 'seattle': 1694,\n",
       " 'tower': 0,\n",
       " 'willis': 0}"
      ]
     },
     "execution_count": 63,
     "metadata": {},
     "output_type": "execute_result"
    }
   ],
   "source": [
    "count_w0"
   ]
  },
  {
   "cell_type": "code",
   "execution_count": 64,
   "metadata": {},
   "outputs": [
    {
     "data": {
      "text/plain": [
       "5500"
      ]
     },
     "execution_count": 64,
     "metadata": {},
     "output_type": "execute_result"
    }
   ],
   "source": [
    "sum(count_w0.values())"
   ]
  },
  {
   "cell_type": "code",
   "execution_count": 59,
   "metadata": {},
   "outputs": [
    {
     "data": {
      "text/plain": [
       "{'chicago': 1273,\n",
       " 'mount': 250,\n",
       " 'rainier': 0,\n",
       " 'seattle': 239,\n",
       " 'tower': 1340,\n",
       " 'willis': 1398}"
      ]
     },
     "execution_count": 59,
     "metadata": {},
     "output_type": "execute_result"
    }
   ],
   "source": [
    "count_w1"
   ]
  },
  {
   "cell_type": "code",
   "execution_count": 46,
   "metadata": {},
   "outputs": [
    {
     "data": {
      "text/plain": [
       "0"
      ]
     },
     "execution_count": 46,
     "metadata": {},
     "output_type": "execute_result"
    }
   ],
   "source": [
    "z0[0:2].count('mount')"
   ]
  },
  {
   "cell_type": "code",
   "execution_count": 47,
   "metadata": {},
   "outputs": [
    {
     "data": {
      "text/plain": [
       "['mount mount rainier seattle seattle rainier rainier rainier seattle seattle mount mount rainier mount mount seattle mount mount seattle mount seattle mount seattle rainier mount mount rainier rainier mount mount seattle mount mount mount rainier rainier mount seattle seattle seattle seattle rainier rainier mount rainier seattle mount mount seattle mount mount seattle seattle rainier seattle seattle mount rainier mount mount mount rainier mount mount seattle mount mount rainier seattle seattle seattle seattle rainier mount mount rainier seattle seattle mount rainier seattle seattle rainier seattle seattle mount rainier seattle seattle seattle rainier mount rainier mount rainier seattle rainier rainier seattle seattle',\n",
       " 'seattle mount seattle rainier rainier rainier rainier seattle rainier seattle rainier rainier rainier seattle rainier rainier seattle mount rainier rainier rainier mount rainier rainier mount rainier mount seattle seattle rainier mount mount seattle seattle seattle mount mount rainier mount rainier rainier seattle rainier rainier mount rainier mount mount rainier mount rainier seattle seattle seattle seattle rainier seattle seattle rainier rainier mount mount seattle mount mount rainier rainier rainier seattle rainier rainier seattle rainier rainier mount rainier seattle seattle rainier seattle seattle rainier mount mount rainier rainier rainier seattle mount seattle seattle rainier rainier seattle rainier rainier rainier seattle rainier rainier']"
      ]
     },
     "execution_count": 47,
     "metadata": {},
     "output_type": "execute_result"
    }
   ],
   "source": [
    "z0[0:2]"
   ]
  },
  {
   "cell_type": "code",
   "execution_count": 56,
   "metadata": {},
   "outputs": [
    {
     "data": {
      "text/plain": [
       "36"
      ]
     },
     "execution_count": 56,
     "metadata": {},
     "output_type": "execute_result"
    }
   ],
   "source": [
    "data[0].count('seattle')"
   ]
  },
  {
   "cell_type": "code",
   "execution_count": 79,
   "metadata": {
    "collapsed": true
   },
   "outputs": [],
   "source": [
    "test = data[100:110]\n",
    "count_w = {'seattle':0, 'mount':0, 'rainier':0, 'chicago':0, 'willis':0, 'tower':0}"
   ]
  },
  {
   "cell_type": "code",
   "execution_count": 81,
   "metadata": {},
   "outputs": [
    {
     "name": "stdout",
     "output_type": "stream",
     "text": [
      "{'seattle': 15, 'mount': 11, 'rainier': 11, 'chicago': 24, 'willis': 29, 'tower': 10}\n",
      "{'seattle': 20, 'mount': 12, 'rainier': 12, 'chicago': 22, 'willis': 16, 'tower': 18}\n",
      "{'seattle': 8, 'mount': 8, 'rainier': 4, 'chicago': 27, 'willis': 31, 'tower': 22}\n",
      "{'seattle': 21, 'mount': 16, 'rainier': 11, 'chicago': 12, 'willis': 24, 'tower': 16}\n",
      "{'seattle': 34, 'mount': 29, 'rainier': 36, 'chicago': 1, 'willis': 0, 'tower': 0}\n",
      "{'seattle': 24, 'mount': 34, 'rainier': 33, 'chicago': 1, 'willis': 3, 'tower': 5}\n",
      "{'seattle': 29, 'mount': 22, 'rainier': 39, 'chicago': 3, 'willis': 3, 'tower': 4}\n",
      "{'seattle': 26, 'mount': 28, 'rainier': 37, 'chicago': 4, 'willis': 4, 'tower': 1}\n",
      "{'seattle': 8, 'mount': 18, 'rainier': 13, 'chicago': 17, 'willis': 23, 'tower': 21}\n",
      "{'seattle': 28, 'mount': 23, 'rainier': 27, 'chicago': 6, 'willis': 5, 'tower': 11}\n"
     ]
    }
   ],
   "source": [
    "for x in test:\n",
    "    for y in V:\n",
    "        count_w[y] = x.count(y)\n",
    "    print(count_w)"
   ]
  },
  {
   "cell_type": "code",
   "execution_count": null,
   "metadata": {
    "collapsed": true
   },
   "outputs": [],
   "source": [
    "#1111000010"
   ]
  }
 ],
 "metadata": {
  "kernelspec": {
   "display_name": "Python 3",
   "language": "python",
   "name": "python3"
  },
  "language_info": {
   "codemirror_mode": {
    "name": "ipython",
    "version": 3
   },
   "file_extension": ".py",
   "mimetype": "text/x-python",
   "name": "python",
   "nbconvert_exporter": "python",
   "pygments_lexer": "ipython3",
   "version": "3.6.3"
  }
 },
 "nbformat": 4,
 "nbformat_minor": 2
}
