{
 "cells": [
  {
   "cell_type": "code",
   "execution_count": 2,
   "metadata": {},
   "outputs": [],
   "source": [
    "import pandas as pd\n",
    "import re\n",
    "from sklearn.feature_extraction.text import TfidfVectorizer\n",
    "from sklearn.linear_model import LogisticRegression\n",
    "from sklearn.linear_model import LinearRegression\n",
    "import numpy as np\n",
    "from sklearn.metrics import mean_squared_error\n",
    "from nltk.corpus import sentiwordnet as swn\n",
    "from nltk.corpus import stopwords"
   ]
  },
  {
   "cell_type": "code",
   "execution_count": 4,
   "metadata": {},
   "outputs": [],
   "source": [
    "df = pd.read_csv('reviews.csv')"
   ]
  },
  {
   "cell_type": "code",
   "execution_count": 5,
   "metadata": {},
   "outputs": [],
   "source": [
    "data = df[['Text', 'Score']]"
   ]
  },
  {
   "cell_type": "code",
   "execution_count": 6,
   "metadata": {},
   "outputs": [
    {
     "data": {
      "text/html": [
       "<div>\n",
       "<style scoped>\n",
       "    .dataframe tbody tr th:only-of-type {\n",
       "        vertical-align: middle;\n",
       "    }\n",
       "\n",
       "    .dataframe tbody tr th {\n",
       "        vertical-align: top;\n",
       "    }\n",
       "\n",
       "    .dataframe thead th {\n",
       "        text-align: right;\n",
       "    }\n",
       "</style>\n",
       "<table border=\"1\" class=\"dataframe\">\n",
       "  <thead>\n",
       "    <tr style=\"text-align: right;\">\n",
       "      <th></th>\n",
       "      <th>Text</th>\n",
       "      <th>Score</th>\n",
       "    </tr>\n",
       "  </thead>\n",
       "  <tbody>\n",
       "    <tr>\n",
       "      <th>0</th>\n",
       "      <td>I have bought several of the Vitality canned d...</td>\n",
       "      <td>5</td>\n",
       "    </tr>\n",
       "    <tr>\n",
       "      <th>1</th>\n",
       "      <td>Product arrived labeled as Jumbo Salted Peanut...</td>\n",
       "      <td>1</td>\n",
       "    </tr>\n",
       "    <tr>\n",
       "      <th>2</th>\n",
       "      <td>This is a confection that has been around a fe...</td>\n",
       "      <td>4</td>\n",
       "    </tr>\n",
       "    <tr>\n",
       "      <th>3</th>\n",
       "      <td>If you are looking for the secret ingredient i...</td>\n",
       "      <td>2</td>\n",
       "    </tr>\n",
       "    <tr>\n",
       "      <th>4</th>\n",
       "      <td>Great taffy at a great price.  There was a wid...</td>\n",
       "      <td>5</td>\n",
       "    </tr>\n",
       "  </tbody>\n",
       "</table>\n",
       "</div>"
      ],
      "text/plain": [
       "                                                Text  Score\n",
       "0  I have bought several of the Vitality canned d...      5\n",
       "1  Product arrived labeled as Jumbo Salted Peanut...      1\n",
       "2  This is a confection that has been around a fe...      4\n",
       "3  If you are looking for the secret ingredient i...      2\n",
       "4  Great taffy at a great price.  There was a wid...      5"
      ]
     },
     "execution_count": 6,
     "metadata": {},
     "output_type": "execute_result"
    }
   ],
   "source": [
    "data.head()"
   ]
  },
  {
   "cell_type": "code",
   "execution_count": 7,
   "metadata": {},
   "outputs": [],
   "source": [
    "conjunct = ['and', 'moreover', 'in addition', 'additionally', 'further', 'furthermore', 'along with', 'as well as', 'also',\n",
    "           'but', 'however', 'in contrast', 'instead', 'on the other hand', 'whereas', 'except that', 'on the contrary', \n",
    "            'conversely', 'nevertheless', 'although', 'alternatively',\n",
    "            'if', 'unless', 'even if', 'even until', 'as long as', 'supposing', 'in case', 'only if', 'when',\n",
    "            'or', 'similarly', 'equally', 'likewise']\n",
    "\n",
    "additive = ['and', 'moreover', 'in addition', 'additionally', 'further', 'furthermore', 'along with', 'as well as', 'also']\n",
    "contrast = ['but', 'however', 'in contrast', 'instead', 'on the other hand', 'whereas', 'except that', 'on the contrary', \n",
    "            'conversely', 'nevertheless', 'although', 'alternatively']\n",
    "conditional = ['if', 'unless', 'even if', 'even until', 'as long as', 'supposing', 'in case', 'only if', 'when']\n",
    "similarity = ['or', 'similarly', 'equally', 'likewise']"
   ]
  },
  {
   "cell_type": "code",
   "execution_count": 8,
   "metadata": {},
   "outputs": [
    {
     "data": {
      "text/html": [
       "<div>\n",
       "<style scoped>\n",
       "    .dataframe tbody tr th:only-of-type {\n",
       "        vertical-align: middle;\n",
       "    }\n",
       "\n",
       "    .dataframe tbody tr th {\n",
       "        vertical-align: top;\n",
       "    }\n",
       "\n",
       "    .dataframe thead th {\n",
       "        text-align: right;\n",
       "    }\n",
       "</style>\n",
       "<table border=\"1\" class=\"dataframe\">\n",
       "  <thead>\n",
       "    <tr style=\"text-align: right;\">\n",
       "      <th></th>\n",
       "      <th>Score</th>\n",
       "    </tr>\n",
       "  </thead>\n",
       "  <tbody>\n",
       "    <tr>\n",
       "      <th>count</th>\n",
       "      <td>568454.000000</td>\n",
       "    </tr>\n",
       "    <tr>\n",
       "      <th>mean</th>\n",
       "      <td>4.183199</td>\n",
       "    </tr>\n",
       "    <tr>\n",
       "      <th>std</th>\n",
       "      <td>1.310436</td>\n",
       "    </tr>\n",
       "    <tr>\n",
       "      <th>min</th>\n",
       "      <td>1.000000</td>\n",
       "    </tr>\n",
       "    <tr>\n",
       "      <th>25%</th>\n",
       "      <td>4.000000</td>\n",
       "    </tr>\n",
       "    <tr>\n",
       "      <th>50%</th>\n",
       "      <td>5.000000</td>\n",
       "    </tr>\n",
       "    <tr>\n",
       "      <th>75%</th>\n",
       "      <td>5.000000</td>\n",
       "    </tr>\n",
       "    <tr>\n",
       "      <th>max</th>\n",
       "      <td>5.000000</td>\n",
       "    </tr>\n",
       "  </tbody>\n",
       "</table>\n",
       "</div>"
      ],
      "text/plain": [
       "               Score\n",
       "count  568454.000000\n",
       "mean        4.183199\n",
       "std         1.310436\n",
       "min         1.000000\n",
       "25%         4.000000\n",
       "50%         5.000000\n",
       "75%         5.000000\n",
       "max         5.000000"
      ]
     },
     "execution_count": 8,
     "metadata": {},
     "output_type": "execute_result"
    }
   ],
   "source": [
    "data.describe()"
   ]
  },
  {
   "cell_type": "code",
   "execution_count": 9,
   "metadata": {},
   "outputs": [
    {
     "data": {
      "text/plain": [
       "5    23286\n",
       "4     3391\n",
       "1     1841\n",
       "3     1586\n",
       "2      989\n",
       "Name: Score, dtype: int64"
      ]
     },
     "execution_count": 9,
     "metadata": {},
     "output_type": "execute_result"
    }
   ],
   "source": [
    "one_sentence = data['Text'].apply(lambda x: x.count('.') == 1 if type(x) == str else 0)\n",
    "yes_conjunct = data['Text'].apply(lambda x: any([' '+ c + ' ' in x for c in conjunct]) if type(x) == str else False)\n",
    "df1 = data.loc[yes_conjunct == True].loc[one_sentence == True]\n",
    "df1['Score'].value_counts()"
   ]
  },
  {
   "cell_type": "code",
   "execution_count": 10,
   "metadata": {},
   "outputs": [
    {
     "data": {
      "text/plain": [
       "38447"
      ]
     },
     "execution_count": 10,
     "metadata": {},
     "output_type": "execute_result"
    }
   ],
   "source": [
    "sum(one_sentence)"
   ]
  },
  {
   "cell_type": "code",
   "execution_count": 11,
   "metadata": {},
   "outputs": [
    {
     "data": {
      "text/plain": [
       "31093"
      ]
     },
     "execution_count": 11,
     "metadata": {},
     "output_type": "execute_result"
    }
   ],
   "source": [
    "len(df1)"
   ]
  },
  {
   "cell_type": "code",
   "execution_count": 12,
   "metadata": {},
   "outputs": [
    {
     "name": "stdout",
     "output_type": "stream",
     "text": [
      "['additionally', 'although', 'further', 'in addition', 'on the other hand', 'along with', 'instead', 'unless', 'as well as', 'when', 'as long as', 'or', 'also', 'nevertheless', 'in case', 'only if', 'but', 'if', 'even if', 'however', 'whereas', 'likewise', 'except that', 'equally', 'and', 'furthermore']\n"
     ]
    }
   ],
   "source": [
    "conjunction = df1['Text'].apply(lambda x: [c for c in conjunct if c in x])\n",
    "all_conjuncts = sum(conjunction.tolist(), [])\n",
    "vocab = list(set(all_conjuncts))\n",
    "print(vocab)"
   ]
  },
  {
   "cell_type": "code",
   "execution_count": 13,
   "metadata": {},
   "outputs": [
    {
     "data": {
      "text/plain": [
       "{'and': ['and',\n",
       "  'in addition',\n",
       "  'additionally',\n",
       "  'further',\n",
       "  'furthermore',\n",
       "  'along with',\n",
       "  'as well as',\n",
       "  'also'],\n",
       " 'but': ['but',\n",
       "  'however',\n",
       "  'instead',\n",
       "  'on the other hand',\n",
       "  'whereas',\n",
       "  'except that',\n",
       "  'nevertheless',\n",
       "  'although'],\n",
       " 'if': ['if', 'unless', 'even if', 'as long as', 'in case', 'only if', 'when'],\n",
       " 'or': ['or', 'equally', 'likewise']}"
      ]
     },
     "execution_count": 13,
     "metadata": {},
     "output_type": "execute_result"
    }
   ],
   "source": [
    "conjunct_dict = {c: all_conjuncts.count(c) for c in vocab}\n",
    "sorted(conjunct_dict.items(), key = lambda x:x[1], reverse = True)\n",
    "conjunct_type_count = {[additive, contrast, conditional, similarity].index(x): sum([conjunct_dict[w] for w in x if w in list(conjunct_dict.keys())]) for x in [additive, contrast, conditional, similarity]}\n",
    "conjuncts_by_type = {x[0]: [w for w in x if w in list(conjunct_dict.keys())] for x in [additive, contrast, conditional, similarity]}\n",
    "conjuncts_by_type"
   ]
  },
  {
   "cell_type": "code",
   "execution_count": 17,
   "metadata": {},
   "outputs": [],
   "source": [
    "# replace all conjunct with but and if or\n",
    "def replace(x, conjunct = conjuncts_by_type):\n",
    "    for key in conjuncts_by_type.keys():\n",
    "        for val in conjuncts_by_type[key]:\n",
    "            x = x.replace(val, key)\n",
    "    return x\n",
    "\n",
    "# data cleaning\n",
    "REPLACE_NO_SPACE = re.compile(\"(\\.)|(\\\\\\)|(\\;)|(\\:)|(\\!)|(\\')|(\\?)|(\\,)|(\\\")|(\\()|(\\))|(\\[)|(\\])|(\\r)|(\\n)\")\n",
    "REPLACE_WITH_SPACE = re.compile(\"(<br\\s*/><br\\s*/>)|(\\-)|(\\/)\")\n",
    "stop_words = set(stopwords.words('english'))\n",
    "\n",
    "def clean(review):\n",
    "    review = REPLACE_NO_SPACE.sub(\"\", review.lower())\n",
    "    review = REPLACE_WITH_SPACE.sub(\" \", review)\n",
    "    return review"
   ]
  },
  {
   "cell_type": "code",
   "execution_count": 18,
   "metadata": {},
   "outputs": [
    {
     "data": {
      "text/plain": [
       "13373"
      ]
     },
     "execution_count": 18,
     "metadata": {},
     "output_type": "execute_result"
    }
   ],
   "source": [
    "order = ['but', 'if', 'and', 'or']\n",
    "df1['review'] = df1['Text'].apply(lambda x: replace(x))\n",
    "df1['review'] = df1['review'].apply(lambda x: clean(x))\n",
    "df1['conj'] = df1['review'].apply(lambda x: [c for c in x.split(' ') if c in order])\n",
    "train = [df1.loc[s] for s in df1.index if len(df1['conj'].loc[s]) == 1]\n",
    "train_dict = {}\n",
    "for conj in order:\n",
    "    val = [x['review'].split(' ' + conj + ' ') + [x['Score']] for x in train if ' ' + conj + ' ' in x['review']]\n",
    "    train_dict[conj] = val\n",
    "len(train)"
   ]
  },
  {
   "cell_type": "code",
   "execution_count": 27,
   "metadata": {},
   "outputs": [],
   "source": [
    "def p(x):\n",
    "    if list(swn.senti_synsets(x)) == []:\n",
    "        return 0\n",
    "    pos = [w.pos_score() for w in swn.senti_synsets(x) if w.pos_score() > 0]\n",
    "    neg = [w.neg_score() for w in swn.senti_synsets(x) if w.neg_score() > 0]\n",
    "    if pos == []:\n",
    "        pos = 0\n",
    "    else:\n",
    "        pos = np.mean(pos)\n",
    "    \n",
    "    if neg == []:\n",
    "        neg = 0\n",
    "    else:\n",
    "        neg = np.mean(neg)\n",
    "    return 3*(pos - neg)\n",
    "\n",
    "\n",
    "train_matrix = {}\n",
    "for key in order:\n",
    "    data = train_dict[key]\n",
    "    matrix = []\n",
    "    for s in data:\n",
    "        matrix.append([sum([p(x) for x in s[0]]), sum([p(x) for x in s[1]]), (s[2]-3)/2])\n",
    "    train_matrix[key] = np.matrix(matrix)"
   ]
  },
  {
   "cell_type": "code",
   "execution_count": 28,
   "metadata": {},
   "outputs": [],
   "source": [
    "weights = {}\n",
    "for conj in order:\n",
    "    X = train_matrix[conj][:, 0:2]\n",
    "    y = train_matrix[conj][:, 2]\n",
    "    linear = LinearRegression()\n",
    "    linear.fit(X, y)\n",
    "    weights[conj] = linear.coef_[0,:].tolist() + linear.intercept_.tolist()"
   ]
  },
  {
   "cell_type": "code",
   "execution_count": 29,
   "metadata": {},
   "outputs": [
    {
     "data": {
      "text/plain": [
       "matrix([[ 1.875,  7.5  ,  0.5  ],\n",
       "        [-2.625,  0.75 , -0.5  ],\n",
       "        [-5.25 ,  1.5  ,  1.   ],\n",
       "        ...,\n",
       "        [ 0.   , -2.25 ,  1.   ],\n",
       "        [-0.375,  1.125, -1.   ],\n",
       "        [ 1.5  , -1.125,  1.   ]])"
      ]
     },
     "execution_count": 29,
     "metadata": {},
     "output_type": "execute_result"
    }
   ],
   "source": [
    "X1 = np.concatenate((train_matrix['but'], train_matrix['and'], train_matrix['or'], train_matrix['if']), axis = 0)\n",
    "X1"
   ]
  },
  {
   "cell_type": "code",
   "execution_count": 30,
   "metadata": {},
   "outputs": [
    {
     "data": {
      "text/plain": [
       "1.1982319908717043"
      ]
     },
     "execution_count": 30,
     "metadata": {},
     "output_type": "execute_result"
    }
   ],
   "source": [
    "linear = LinearRegression()\n",
    "linear.fit(X1[:100, 0] + X1[:100, 1], X1[:100, 2])\n",
    "y1 = linear.predict(X1[:, 0] + X1[:, 1])\n",
    "np.sqrt(mean_squared_error(X1[:, 2]*2+3, y1*2+3))"
   ]
  },
  {
   "cell_type": "code",
   "execution_count": 31,
   "metadata": {},
   "outputs": [
    {
     "data": {
      "text/plain": [
       "{'but': [0.01463208486813129, 0.0027068563790658023, 0.45247339141720627],\n",
       " 'if': [0.00863337034292694, 0.002974153231389477, 0.6999628374604729],\n",
       " 'and': [0.007006055384766385, 0.006159608305781145, 0.8092985892679921],\n",
       " 'or': [0.006660713821057349, 0.004962421336278101, 0.7750780569119118]}"
      ]
     },
     "execution_count": 31,
     "metadata": {},
     "output_type": "execute_result"
    }
   ],
   "source": [
    "weights"
   ]
  },
  {
   "cell_type": "code",
   "execution_count": 32,
   "metadata": {},
   "outputs": [],
   "source": [
    "def logic_tree(s, order):\n",
    "    conj = [x for x in s if x in order]\n",
    "    if conj == []:\n",
    "        return s\n",
    "    node = {}\n",
    "    node['value'] = order[min([order.index(x) for x in conj])]\n",
    "    node['left'] = logic_tree(s[:s.index(node['value'])], order)\n",
    "    node['right'] = logic_tree(s[s.index(node['value'])+1:], order)\n",
    "    return node\n",
    "\n",
    "def score(t, weights):\n",
    "    if type(t) != dict:\n",
    "        return sum([1 for x in t])\n",
    "    conj =  t['value']\n",
    "    return (weights[conj][0] * score(t['left'], weights) \n",
    "            + weights[conj][1] * score(t['right'], weights)\n",
    "            + weights[conj][2])\n"
   ]
  },
  {
   "cell_type": "code",
   "execution_count": 35,
   "metadata": {},
   "outputs": [
    {
     "data": {
      "text/plain": [
       "1.1245011973246404"
      ]
     },
     "execution_count": 35,
     "metadata": {},
     "output_type": "execute_result"
    }
   ],
   "source": [
    "df1['logic_tree'] = df1['review'].apply(lambda x: logic_tree(x.split(' '), order))\n",
    "df1['fitted'] = df1['logic_tree'].apply(lambda x: round(score(x, weights)*2 + 2.7, 1) \n",
    "                                        if (score(x, weights)*2 + 2.7 < 5) else 5)\n",
    "np.sqrt(mean_squared_error(df1['Score'], df1['fitted']))"
   ]
  },
  {
   "cell_type": "code",
   "execution_count": 36,
   "metadata": {},
   "outputs": [],
   "source": [
    "tf = TfidfVectorizer()\n",
    "tf.fit(df1['review'])\n",
    "all_X = tf.transform(df1['review'])"
   ]
  },
  {
   "cell_type": "code",
   "execution_count": 38,
   "metadata": {},
   "outputs": [
    {
     "data": {
      "text/plain": [
       "1.2436370232566718"
      ]
     },
     "execution_count": 38,
     "metadata": {},
     "output_type": "execute_result"
    }
   ],
   "source": [
    "lr = LogisticRegression(multi_class = 'multinomial', solver = 'newton-cg')\n",
    "lr.fit(all_X[:160, :], df1['Score'].tolist()[:160])\n",
    "y = lr.predict(all_X[160:])\n",
    "np.sqrt(mean_squared_error(df1['Score'].tolist()[160:], y))"
   ]
  },
  {
   "cell_type": "code",
   "execution_count": 40,
   "metadata": {},
   "outputs": [
    {
     "data": {
      "text/plain": [
       "1.2422208329000117"
      ]
     },
     "execution_count": 40,
     "metadata": {},
     "output_type": "execute_result"
    }
   ],
   "source": [
    "lr = LogisticRegression(multi_class = 'multinomial', solver = 'newton-cg')\n",
    "lr.fit(all_X[:600, :], df1['Score'].tolist()[:600])\n",
    "y = lr.predict(all_X)\n",
    "np.sqrt(mean_squared_error(df1['Score'].tolist(), y))"
   ]
  }
 ],
 "metadata": {
  "kernelspec": {
   "display_name": "Python 3",
   "language": "python",
   "name": "python3"
  },
  "language_info": {
   "codemirror_mode": {
    "name": "ipython",
    "version": 3
   },
   "file_extension": ".py",
   "mimetype": "text/x-python",
   "name": "python",
   "nbconvert_exporter": "python",
   "pygments_lexer": "ipython3",
   "version": "3.8.5"
  }
 },
 "nbformat": 4,
 "nbformat_minor": 2
}
